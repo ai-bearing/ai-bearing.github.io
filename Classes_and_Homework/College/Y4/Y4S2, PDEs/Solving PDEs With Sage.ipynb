{
  "cells": [
    {
      "cell_type": "code",
      "execution_count": 1,
      "id": "a4a5d1d2-8494-4daf-91a7-29293a87be9a",
      "metadata": {
        "vscode": {
          "languageId": "sage"
        }
      },
      "outputs": [
        {
          "data": {
            "text/plain": [
              "2"
            ]
          },
          "execution_count": 1,
          "metadata": {},
          "output_type": "execute_result"
        }
      ],
      "source": [
        "1+1"
      ]
    },
    {
      "cell_type": "code",
      "execution_count": 2,
      "id": "fa8f8f3d-6e39-4b80-a217-e477cc488648",
      "metadata": {
        "vscode": {
          "languageId": "sage"
        }
      },
      "outputs": [],
      "source": [
        "f(x) = x^3 + 1"
      ]
    },
    {
      "cell_type": "code",
      "execution_count": 3,
      "id": "ea1669c2-bca1-4af0-b89f-7d6dc6cd4b59",
      "metadata": {
        "vscode": {
          "languageId": "sage"
        }
      },
      "outputs": [
        {
          "data": {
            "text/plain": [
              "28"
            ]
          },
          "execution_count": 3,
          "metadata": {},
          "output_type": "execute_result"
        }
      ],
      "source": [
        "f(3)"
      ]
    },
    {
      "cell_type": "code",
      "execution_count": 4,
      "id": "aad31e87-f206-4565-aee2-eccbbda4ca93",
      "metadata": {
        "vscode": {
          "languageId": "sage"
        }
      },
      "outputs": [],
      "source": [
        "y = function('y')(x)\n",
        "de = diff(y,x) + y - 2\n",
        "h = desolve(de,y)"
      ]
    },
    {
      "cell_type": "code",
      "execution_count": 5,
      "id": "df5338e7-f099-42e9-83f4-43fd67a1b5ee",
      "metadata": {
        "vscode": {
          "languageId": "sage"
        }
      },
      "outputs": [
        {
          "data": {
            "text/html": [
              "<html>\\(\\displaystyle C e^{\\left(-x\\right)} + 2\\)</html>"
            ],
            "text/latex": [
              "$\\displaystyle C e^{\\left(-x\\right)} + 2$"
            ],
            "text/plain": [
              "_C*e^(-x) + 2"
            ]
          },
          "metadata": {},
          "output_type": "display_data"
        }
      ],
      "source": [
        "show(expand(h))"
      ]
    },
    {
      "cell_type": "code",
      "execution_count": 6,
      "id": "d48b7fc5-4a8f-40a2-af0e-41838fb3dcda",
      "metadata": {
        "vscode": {
          "languageId": "sage"
        }
      },
      "outputs": [
        {
          "data": {
            "text/plain": [
              "C e^{\\left(-x\\right)} + 2"
            ]
          },
          "execution_count": 6,
          "metadata": {},
          "output_type": "execute_result"
        }
      ],
      "source": [
        "latex(expand(h))"
      ]
    },
    {
      "cell_type": "code",
      "execution_count": 10,
      "id": "34978f59-a2ba-4c3d-aac5-0f676b525604",
      "metadata": {
        "vscode": {
          "languageId": "sage"
        }
      },
      "outputs": [
        {
          "data": {
            "text/html": [
              "<html>\\(\\displaystyle K_{2} x e^{x} + \\frac{1}{2} \\, x^{2} e^{x} + K_{1} e^{x}\\)</html>"
            ],
            "text/latex": [
              "$\\displaystyle K_{2} x e^{x} + \\frac{1}{2} \\, x^{2} e^{x} + K_{1} e^{x}$"
            ],
            "text/plain": [
              "_K2*x*e^x + 1/2*x^2*e^x + _K1*e^x"
            ]
          },
          "metadata": {},
          "output_type": "display_data"
        }
      ],
      "source": [
        "de = diff(y,x,2) - 2*diff(y,x) + y - e^(x)\n",
        "g = desolve(de,y)\n",
        "latex(expand(g))\n",
        "show(expand(g))"
      ]
    },
    {
      "cell_type": "code",
      "execution_count": 11,
      "id": "cd2df88a-e0fa-4410-b33a-5c0258eb735e",
      "metadata": {
        "vscode": {
          "languageId": "sage"
        }
      },
      "outputs": [
        {
          "data": {
            "text/plain": [
              "K_{2} x e^{x} + \\frac{1}{2} \\, x^{2} e^{x} + K_{1} e^{x}"
            ]
          },
          "execution_count": 11,
          "metadata": {},
          "output_type": "execute_result"
        }
      ],
      "source": [
        "latex(expand(g))"
      ]
    },
    {
      "cell_type": "markdown",
      "id": "ee78f372",
      "metadata": {},
      "source": [
        "Next, will be checking the plausibility of solving using FriCAS."
      ]
    },
    {
      "cell_type": "code",
      "execution_count": 4,
      "id": "0d434e2b",
      "metadata": {
        "vscode": {
          "languageId": "sage"
        }
      },
      "outputs": [
        {
          "ename": "TypeError",
          "evalue": "Feature('fricas')",
          "output_type": "error",
          "traceback": [
            "\u001b[0;31m---------------------------------------------------------------------------\u001b[0m",
            "\u001b[0;31mFeatureNotPresentError\u001b[0m                    Traceback (most recent call last)",
            "File \u001b[0;32m/private/var/tmp/sage-10.5-current/local/var/lib/sage/venv-python3.12.5/lib/python3.12/site-packages/sage/interfaces/expect.py:1518\u001b[0m, in \u001b[0;36mExpectElement.__init__\u001b[0;34m(self, parent, value, is_name, name)\u001b[0m\n\u001b[1;32m   1517\u001b[0m \u001b[38;5;28;01mtry\u001b[39;00m:\n\u001b[0;32m-> 1518\u001b[0m     \u001b[38;5;28mself\u001b[39m\u001b[38;5;241m.\u001b[39m_name \u001b[38;5;241m=\u001b[39m \u001b[43mparent\u001b[49m\u001b[38;5;241;43m.\u001b[39;49m\u001b[43m_create\u001b[49m\u001b[43m(\u001b[49m\u001b[43mvalue\u001b[49m\u001b[43m,\u001b[49m\u001b[43m \u001b[49m\u001b[43mname\u001b[49m\u001b[38;5;241;43m=\u001b[39;49m\u001b[43mname\u001b[49m\u001b[43m)\u001b[49m\n\u001b[1;32m   1519\u001b[0m \u001b[38;5;66;03m# Convert ValueError and RuntimeError to TypeError for\u001b[39;00m\n\u001b[1;32m   1520\u001b[0m \u001b[38;5;66;03m# coercion to work properly.\u001b[39;00m\n",
            "File \u001b[0;32m/private/var/tmp/sage-10.5-current/local/var/lib/sage/venv-python3.12.5/lib/python3.12/site-packages/sage/interfaces/interface.py:520\u001b[0m, in \u001b[0;36mInterface._create\u001b[0;34m(self, value, name)\u001b[0m\n\u001b[1;32m    519\u001b[0m name \u001b[38;5;241m=\u001b[39m \u001b[38;5;28mself\u001b[39m\u001b[38;5;241m.\u001b[39m_next_var_name() \u001b[38;5;28;01mif\u001b[39;00m name \u001b[38;5;129;01mis\u001b[39;00m \u001b[38;5;28;01mNone\u001b[39;00m \u001b[38;5;28;01melse\u001b[39;00m name\n\u001b[0;32m--> 520\u001b[0m \u001b[38;5;28;43mself\u001b[39;49m\u001b[38;5;241;43m.\u001b[39;49m\u001b[43mset\u001b[49m\u001b[43m(\u001b[49m\u001b[43mname\u001b[49m\u001b[43m,\u001b[49m\u001b[43m \u001b[49m\u001b[43mvalue\u001b[49m\u001b[43m)\u001b[49m\n\u001b[1;32m    521\u001b[0m \u001b[38;5;28;01mreturn\u001b[39;00m name\n",
            "File \u001b[0;32m/private/var/tmp/sage-10.5-current/local/var/lib/sage/venv-python3.12.5/lib/python3.12/site-packages/sage/interfaces/fricas.py:680\u001b[0m, in \u001b[0;36mFriCAS.set\u001b[0;34m(self, var, value)\u001b[0m\n\u001b[1;32m    679\u001b[0m cmd \u001b[38;5;241m=\u001b[39m \u001b[38;5;124m'\u001b[39m\u001b[38;5;132;01m%s\u001b[39;00m\u001b[38;5;132;01m%s\u001b[39;00m\u001b[38;5;132;01m%s\u001b[39;00m\u001b[38;5;124m;\u001b[39m\u001b[38;5;124m'\u001b[39m \u001b[38;5;241m%\u001b[39m (var, \u001b[38;5;28mself\u001b[39m\u001b[38;5;241m.\u001b[39m_assign_symbol(), value)\n\u001b[0;32m--> 680\u001b[0m output \u001b[38;5;241m=\u001b[39m \u001b[38;5;28;43mself\u001b[39;49m\u001b[38;5;241;43m.\u001b[39;49m\u001b[43meval\u001b[49m\u001b[43m(\u001b[49m\u001b[43mcmd\u001b[49m\u001b[43m,\u001b[49m\u001b[43m \u001b[49m\u001b[43mreformat\u001b[49m\u001b[38;5;241;43m=\u001b[39;49m\u001b[38;5;28;43;01mFalse\u001b[39;49;00m\u001b[43m)\u001b[49m\n\u001b[1;32m    681\u001b[0m \u001b[38;5;28mself\u001b[39m\u001b[38;5;241m.\u001b[39m_check_errors(value, output)\n",
            "File \u001b[0;32m/private/var/tmp/sage-10.5-current/local/var/lib/sage/venv-python3.12.5/lib/python3.12/site-packages/sage/interfaces/fricas.py:933\u001b[0m, in \u001b[0;36mFriCAS.eval\u001b[0;34m(self, code, strip, synchronize, locals, allow_use_file, split_lines, reformat, **kwds)\u001b[0m\n\u001b[1;32m    912\u001b[0m \u001b[38;5;250m\u001b[39m\u001b[38;5;124;03m\"\"\"\u001b[39;00m\n\u001b[1;32m    913\u001b[0m \u001b[38;5;124;03mEvaluate ``code`` using FriCAS.\u001b[39;00m\n\u001b[1;32m    914\u001b[0m \n\u001b[0;32m   (...)\u001b[0m\n\u001b[1;32m    931\u001b[0m \u001b[38;5;124;03m    x\u001b[39;00m\n\u001b[1;32m    932\u001b[0m \u001b[38;5;124;03m\"\"\"\u001b[39;00m\n\u001b[0;32m--> 933\u001b[0m output \u001b[38;5;241m=\u001b[39m \u001b[43mExpect\u001b[49m\u001b[38;5;241;43m.\u001b[39;49m\u001b[43meval\u001b[49m\u001b[43m(\u001b[49m\u001b[38;5;28;43mself\u001b[39;49m\u001b[43m,\u001b[49m\u001b[43m \u001b[49m\u001b[43mcode\u001b[49m\u001b[43m,\u001b[49m\u001b[43m \u001b[49m\u001b[43mstrip\u001b[49m\u001b[38;5;241;43m=\u001b[39;49m\u001b[43mstrip\u001b[49m\u001b[43m,\u001b[49m\n\u001b[1;32m    934\u001b[0m \u001b[43m                     \u001b[49m\u001b[43msynchronize\u001b[49m\u001b[38;5;241;43m=\u001b[39;49m\u001b[43msynchronize\u001b[49m\u001b[43m,\u001b[49m\u001b[43m \u001b[49m\u001b[38;5;28;43mlocals\u001b[39;49m\u001b[38;5;241;43m=\u001b[39;49m\u001b[38;5;28;43mlocals\u001b[39;49m\u001b[43m,\u001b[49m\n\u001b[1;32m    935\u001b[0m \u001b[43m                     \u001b[49m\u001b[43mallow_use_file\u001b[49m\u001b[38;5;241;43m=\u001b[39;49m\u001b[43mallow_use_file\u001b[49m\u001b[43m,\u001b[49m\u001b[43m \u001b[49m\u001b[43msplit_lines\u001b[49m\u001b[38;5;241;43m=\u001b[39;49m\u001b[43msplit_lines\u001b[49m\u001b[43m,\u001b[49m\n\u001b[1;32m    936\u001b[0m \u001b[43m                     \u001b[49m\u001b[38;5;241;43m*\u001b[39;49m\u001b[38;5;241;43m*\u001b[39;49m\u001b[43mkwds\u001b[49m\u001b[43m)\u001b[49m\n\u001b[1;32m    937\u001b[0m \u001b[38;5;66;03m# we remove carriage returns (\\r) to make parsing easier\u001b[39;00m\n\u001b[1;32m    938\u001b[0m \u001b[38;5;66;03m# they are sent depending on how fricas was invoked:\u001b[39;00m\n\u001b[1;32m    939\u001b[0m \u001b[38;5;66;03m# on linux, \"fricas -nox -noclef\" sends \"\\r\\n\" and \"fricas -nosman\" sends \"\\n\"\u001b[39;00m\n",
            "File \u001b[0;32m/private/var/tmp/sage-10.5-current/local/var/lib/sage/venv-python3.12.5/lib/python3.12/site-packages/sage/interfaces/expect.py:1412\u001b[0m, in \u001b[0;36mExpect.eval\u001b[0;34m(self, code, strip, synchronize, locals, allow_use_file, split_lines, **kwds)\u001b[0m\n\u001b[1;32m   1411\u001b[0m \u001b[38;5;28;01melif\u001b[39;00m split_lines:\n\u001b[0;32m-> 1412\u001b[0m     \u001b[38;5;28;01mreturn\u001b[39;00m \u001b[38;5;124;43m'\u001b[39;49m\u001b[38;5;130;43;01m\\n\u001b[39;49;00m\u001b[38;5;124;43m'\u001b[39;49m\u001b[38;5;241;43m.\u001b[39;49m\u001b[43mjoin\u001b[49m\u001b[43m(\u001b[49m\u001b[38;5;28;43mself\u001b[39;49m\u001b[38;5;241;43m.\u001b[39;49m\u001b[43m_eval_line\u001b[49m\u001b[43m(\u001b[49m\u001b[43mL\u001b[49m\u001b[43m,\u001b[49m\u001b[43m \u001b[49m\u001b[43mallow_use_file\u001b[49m\u001b[38;5;241;43m=\u001b[39;49m\u001b[43mallow_use_file\u001b[49m\u001b[43m,\u001b[49m\u001b[43m \u001b[49m\u001b[38;5;241;43m*\u001b[39;49m\u001b[38;5;241;43m*\u001b[39;49m\u001b[43mkwds\u001b[49m\u001b[43m)\u001b[49m\n\u001b[1;32m   1413\u001b[0m \u001b[43m                     \u001b[49m\u001b[38;5;28;43;01mfor\u001b[39;49;00m\u001b[43m \u001b[49m\u001b[43mL\u001b[49m\u001b[43m \u001b[49m\u001b[38;5;129;43;01min\u001b[39;49;00m\u001b[43m \u001b[49m\u001b[43mcode\u001b[49m\u001b[38;5;241;43m.\u001b[39;49m\u001b[43msplit\u001b[49m\u001b[43m(\u001b[49m\u001b[38;5;124;43m'\u001b[39;49m\u001b[38;5;130;43;01m\\n\u001b[39;49;00m\u001b[38;5;124;43m'\u001b[39;49m\u001b[43m)\u001b[49m\u001b[43m \u001b[49m\u001b[38;5;28;43;01mif\u001b[39;49;00m\u001b[43m \u001b[49m\u001b[43mL\u001b[49m\u001b[43m)\u001b[49m\n\u001b[1;32m   1414\u001b[0m \u001b[38;5;28;01melse\u001b[39;00m:\n",
            "File \u001b[0;32m/private/var/tmp/sage-10.5-current/local/var/lib/sage/venv-python3.12.5/lib/python3.12/site-packages/sage/interfaces/expect.py:1412\u001b[0m, in \u001b[0;36m<genexpr>\u001b[0;34m(.0)\u001b[0m\n\u001b[1;32m   1411\u001b[0m \u001b[38;5;28;01melif\u001b[39;00m split_lines:\n\u001b[0;32m-> 1412\u001b[0m     \u001b[38;5;28;01mreturn\u001b[39;00m \u001b[38;5;124m'\u001b[39m\u001b[38;5;130;01m\\n\u001b[39;00m\u001b[38;5;124m'\u001b[39m\u001b[38;5;241m.\u001b[39mjoin(\u001b[38;5;28;43mself\u001b[39;49m\u001b[38;5;241;43m.\u001b[39;49m\u001b[43m_eval_line\u001b[49m\u001b[43m(\u001b[49m\u001b[43mL\u001b[49m\u001b[43m,\u001b[49m\u001b[43m \u001b[49m\u001b[43mallow_use_file\u001b[49m\u001b[38;5;241;43m=\u001b[39;49m\u001b[43mallow_use_file\u001b[49m\u001b[43m,\u001b[49m\u001b[43m \u001b[49m\u001b[38;5;241;43m*\u001b[39;49m\u001b[38;5;241;43m*\u001b[39;49m\u001b[43mkwds\u001b[49m\u001b[43m)\u001b[49m\n\u001b[1;32m   1413\u001b[0m                      \u001b[38;5;28;01mfor\u001b[39;00m L \u001b[38;5;129;01min\u001b[39;00m code\u001b[38;5;241m.\u001b[39msplit(\u001b[38;5;124m'\u001b[39m\u001b[38;5;130;01m\\n\u001b[39;00m\u001b[38;5;124m'\u001b[39m) \u001b[38;5;28;01mif\u001b[39;00m L)\n\u001b[1;32m   1414\u001b[0m \u001b[38;5;28;01melse\u001b[39;00m:\n",
            "File \u001b[0;32m/private/var/tmp/sage-10.5-current/local/var/lib/sage/venv-python3.12.5/lib/python3.12/site-packages/sage/interfaces/expect.py:988\u001b[0m, in \u001b[0;36mExpect._eval_line\u001b[0;34m(self, line, allow_use_file, wait_for_prompt, restart_if_needed)\u001b[0m\n\u001b[1;32m    987\u001b[0m \u001b[38;5;28;01mif\u001b[39;00m \u001b[38;5;28mself\u001b[39m\u001b[38;5;241m.\u001b[39m_expect \u001b[38;5;129;01mis\u001b[39;00m \u001b[38;5;28;01mNone\u001b[39;00m:\n\u001b[0;32m--> 988\u001b[0m     \u001b[38;5;28;43mself\u001b[39;49m\u001b[38;5;241;43m.\u001b[39;49m\u001b[43m_start\u001b[49m\u001b[43m(\u001b[49m\u001b[43m)\u001b[49m\n\u001b[1;32m    989\u001b[0m E \u001b[38;5;241m=\u001b[39m \u001b[38;5;28mself\u001b[39m\u001b[38;5;241m.\u001b[39m_expect\n",
            "File \u001b[0;32m/private/var/tmp/sage-10.5-current/local/var/lib/sage/venv-python3.12.5/lib/python3.12/site-packages/sage/interfaces/fricas.py:347\u001b[0m, in \u001b[0;36mFriCAS._start\u001b[0;34m(self)\u001b[0m\n\u001b[1;32m    346\u001b[0m \u001b[38;5;28mself\u001b[39m\u001b[38;5;241m.\u001b[39m_prompt \u001b[38;5;241m=\u001b[39m FRICAS_FIRST_PROMPT\n\u001b[0;32m--> 347\u001b[0m \u001b[43mExpect\u001b[49m\u001b[38;5;241;43m.\u001b[39;49m\u001b[43m_start\u001b[49m\u001b[43m(\u001b[49m\u001b[38;5;28;43mself\u001b[39;49m\u001b[43m)\u001b[49m\n\u001b[1;32m    348\u001b[0m \u001b[38;5;28;01mfor\u001b[39;00m line \u001b[38;5;129;01min\u001b[39;00m FRICAS_INIT_CODE:\n",
            "File \u001b[0;32m/private/var/tmp/sage-10.5-current/local/var/lib/sage/venv-python3.12.5/lib/python3.12/site-packages/sage/interfaces/expect.py:484\u001b[0m, in \u001b[0;36mExpect._start\u001b[0;34m(self, alt_message, block_during_init)\u001b[0m\n\u001b[1;32m    482\u001b[0m         \u001b[38;5;28mself\u001b[39m\u001b[38;5;241m.\u001b[39m__logfile \u001b[38;5;241m=\u001b[39m \u001b[38;5;28mopen\u001b[39m(\u001b[38;5;28mself\u001b[39m\u001b[38;5;241m.\u001b[39m__logfilename, \u001b[38;5;124m'\u001b[39m\u001b[38;5;124mwb\u001b[39m\u001b[38;5;124m'\u001b[39m)\n\u001b[0;32m--> 484\u001b[0m cmd \u001b[38;5;241m=\u001b[39m \u001b[38;5;28;43mself\u001b[39;49m\u001b[38;5;241;43m.\u001b[39;49m\u001b[43mcommand\u001b[49m\u001b[43m(\u001b[49m\u001b[43m)\u001b[49m\n\u001b[1;32m    486\u001b[0m \u001b[38;5;28;01mif\u001b[39;00m \u001b[38;5;28mself\u001b[39m\u001b[38;5;241m.\u001b[39m__verbose_start:\n",
            "File \u001b[0;32m/private/var/tmp/sage-10.5-current/local/var/lib/sage/venv-python3.12.5/lib/python3.12/site-packages/sage/interfaces/expect.py:257\u001b[0m, in \u001b[0;36mExpect.command\u001b[0;34m(self)\u001b[0m\n\u001b[1;32m    256\u001b[0m \u001b[38;5;28;01melse\u001b[39;00m:\n\u001b[0;32m--> 257\u001b[0m     executable \u001b[38;5;241m=\u001b[39m \u001b[43mexecutable\u001b[49m\u001b[38;5;241;43m.\u001b[39;49m\u001b[43mabsolute_filename\u001b[49m\u001b[43m(\u001b[49m\u001b[43m)\u001b[49m\n\u001b[1;32m    258\u001b[0m command \u001b[38;5;241m=\u001b[39m \u001b[38;5;124m'\u001b[39m\u001b[38;5;124m \u001b[39m\u001b[38;5;124m'\u001b[39m\u001b[38;5;241m.\u001b[39mjoin([shlex\u001b[38;5;241m.\u001b[39mquote(executable)]\n\u001b[1;32m    259\u001b[0m                    \u001b[38;5;241m+\u001b[39m [shlex\u001b[38;5;241m.\u001b[39mquote(arg) \u001b[38;5;28;01mfor\u001b[39;00m arg \u001b[38;5;129;01min\u001b[39;00m command[\u001b[38;5;241m1\u001b[39m:]])\n",
            "File \u001b[0;32m/private/var/tmp/sage-10.5-current/local/var/lib/sage/venv-python3.12.5/lib/python3.12/site-packages/sage/features/__init__.py:757\u001b[0m, in \u001b[0;36mExecutable.absolute_filename\u001b[0;34m(self)\u001b[0m\n\u001b[1;32m    756\u001b[0m     \u001b[38;5;28;01mreturn\u001b[39;00m path\n\u001b[0;32m--> 757\u001b[0m \u001b[38;5;28;01mraise\u001b[39;00m FeatureNotPresentError(\u001b[38;5;28mself\u001b[39m,\n\u001b[1;32m    758\u001b[0m                              reason\u001b[38;5;241m=\u001b[39m\u001b[38;5;124m\"\u001b[39m\u001b[38;5;124mExecutable \u001b[39m\u001b[38;5;132;01m{executable!r}\u001b[39;00m\u001b[38;5;124m not found on PATH.\u001b[39m\u001b[38;5;124m\"\u001b[39m\u001b[38;5;241m.\u001b[39mformat(executable\u001b[38;5;241m=\u001b[39m\u001b[38;5;28mself\u001b[39m\u001b[38;5;241m.\u001b[39mexecutable),\n\u001b[1;32m    759\u001b[0m                              resolution\u001b[38;5;241m=\u001b[39m\u001b[38;5;28mself\u001b[39m\u001b[38;5;241m.\u001b[39mresolution())\n",
            "\u001b[0;31mFeatureNotPresentError\u001b[0m: fricas is not available.\nExecutable 'fricas' not found on PATH.\nNo equivalent system packages for pip are known to Sage.\nFurther installation instructions might be available at https://fricas.github.io.",
            "\nDuring handling of the above exception, another exception occurred:\n",
            "\u001b[0;31mTypeError\u001b[0m                                 Traceback (most recent call last)",
            "Cell \u001b[0;32mIn[4], line 4\u001b[0m\n\u001b[1;32m      2\u001b[0m y\u001b[38;5;241m=\u001b[39mfunction(\u001b[38;5;124m'\u001b[39m\u001b[38;5;124my\u001b[39m\u001b[38;5;124m'\u001b[39m)(x)\n\u001b[1;32m      3\u001b[0m de2 \u001b[38;5;241m=\u001b[39m diff(y,x,Integer(\u001b[38;5;241m3\u001b[39m))\u001b[38;5;241m-\u001b[39mInteger(\u001b[38;5;241m2\u001b[39m)\u001b[38;5;241m*\u001b[39mdiff(y,x,Integer(\u001b[38;5;241m2\u001b[39m))\u001b[38;5;241m-\u001b[39mInteger(\u001b[38;5;241m3\u001b[39m)\u001b[38;5;241m*\u001b[39mdiff(y,x)\u001b[38;5;241m+\u001b[39mInteger(\u001b[38;5;241m3\u001b[39m)\n\u001b[0;32m----> 4\u001b[0m g \u001b[38;5;241m=\u001b[39m \u001b[43mdesolve\u001b[49m\u001b[43m(\u001b[49m\u001b[43mde2\u001b[49m\u001b[43m,\u001b[49m\u001b[43my\u001b[49m\u001b[43m,\u001b[49m\u001b[43malgorithm\u001b[49m\u001b[38;5;241;43m=\u001b[39;49m\u001b[38;5;124;43m\"\u001b[39;49m\u001b[38;5;124;43mfricas\u001b[39;49m\u001b[38;5;124;43m\"\u001b[39;49m\u001b[43m)\u001b[49m\n\u001b[1;32m      5\u001b[0m latex(expand(g))\n",
            "File \u001b[0;32m/private/var/tmp/sage-10.5-current/local/var/lib/sage/venv-python3.12.5/lib/python3.12/site-packages/sage/calculus/desolvers.py:567\u001b[0m, in \u001b[0;36mdesolve\u001b[0;34m(de, dvar, ics, ivar, show_method, contrib_ode, algorithm)\u001b[0m\n\u001b[1;32m    564\u001b[0m     ivar \u001b[38;5;241m=\u001b[39m ivars[\u001b[38;5;241m0\u001b[39m]\n\u001b[1;32m    566\u001b[0m \u001b[38;5;28;01mif\u001b[39;00m algorithm \u001b[38;5;241m==\u001b[39m \u001b[38;5;124m\"\u001b[39m\u001b[38;5;124mfricas\u001b[39m\u001b[38;5;124m\"\u001b[39m:\n\u001b[0;32m--> 567\u001b[0m     \u001b[38;5;28;01mreturn\u001b[39;00m \u001b[43mfricas_desolve\u001b[49m\u001b[43m(\u001b[49m\u001b[43mde\u001b[49m\u001b[43m,\u001b[49m\u001b[43m \u001b[49m\u001b[43mdvar\u001b[49m\u001b[43m,\u001b[49m\u001b[43m \u001b[49m\u001b[43mics\u001b[49m\u001b[43m,\u001b[49m\u001b[43m \u001b[49m\u001b[43mivar\u001b[49m\u001b[43m)\u001b[49m\n\u001b[1;32m    568\u001b[0m \u001b[38;5;28;01melif\u001b[39;00m algorithm \u001b[38;5;241m!=\u001b[39m \u001b[38;5;124m\"\u001b[39m\u001b[38;5;124mmaxima\u001b[39m\u001b[38;5;124m\"\u001b[39m:\n\u001b[1;32m    569\u001b[0m     \u001b[38;5;28;01mraise\u001b[39;00m \u001b[38;5;167;01mValueError\u001b[39;00m(\u001b[38;5;124m\"\u001b[39m\u001b[38;5;124munknown algorithm \u001b[39m\u001b[38;5;132;01m%s\u001b[39;00m\u001b[38;5;124m\"\u001b[39m \u001b[38;5;241m%\u001b[39m algorithm)\n",
            "File \u001b[0;32m/private/var/tmp/sage-10.5-current/local/var/lib/sage/venv-python3.12.5/lib/python3.12/site-packages/sage/calculus/desolvers.py:112\u001b[0m, in \u001b[0;36mfricas_desolve\u001b[0;34m(de, dvar, ics, ivar)\u001b[0m\n\u001b[1;32m    110\u001b[0m \u001b[38;5;28;01mfrom\u001b[39;00m \u001b[38;5;21;01msage\u001b[39;00m\u001b[38;5;21;01m.\u001b[39;00m\u001b[38;5;21;01msymbolic\u001b[39;00m\u001b[38;5;21;01m.\u001b[39;00m\u001b[38;5;21;01mring\u001b[39;00m \u001b[38;5;28;01mimport\u001b[39;00m SR\n\u001b[1;32m    111\u001b[0m \u001b[38;5;28;01mif\u001b[39;00m ics \u001b[38;5;129;01mis\u001b[39;00m \u001b[38;5;28;01mNone\u001b[39;00m:\n\u001b[0;32m--> 112\u001b[0m     y \u001b[38;5;241m=\u001b[39m \u001b[43mfricas\u001b[49m\u001b[43m(\u001b[49m\u001b[43mde\u001b[49m\u001b[43m)\u001b[49m\u001b[38;5;241m.\u001b[39msolve(dvar\u001b[38;5;241m.\u001b[39moperator(), ivar)\u001b[38;5;241m.\u001b[39msage()\n\u001b[1;32m    113\u001b[0m \u001b[38;5;28;01melse\u001b[39;00m:\n\u001b[1;32m    114\u001b[0m     eq \u001b[38;5;241m=\u001b[39m fricas\u001b[38;5;241m.\u001b[39mequation(ivar, ics[\u001b[38;5;241m0\u001b[39m])\n",
            "File \u001b[0;32m/private/var/tmp/sage-10.5-current/local/var/lib/sage/venv-python3.12.5/lib/python3.12/site-packages/sage/interfaces/interface.py:306\u001b[0m, in \u001b[0;36mInterface.__call__\u001b[0;34m(self, x, name)\u001b[0m\n\u001b[1;32m    299\u001b[0m     \u001b[38;5;28;01mreturn\u001b[39;00m \u001b[38;5;28mcls\u001b[39m(\u001b[38;5;28mself\u001b[39m, x, name\u001b[38;5;241m=\u001b[39mname)\n\u001b[1;32m    300\u001b[0m \u001b[38;5;28;01mtry\u001b[39;00m:\n\u001b[1;32m    301\u001b[0m     \u001b[38;5;66;03m# Special methods do not and should not have an option to\u001b[39;00m\n\u001b[1;32m    302\u001b[0m     \u001b[38;5;66;03m# set the name directly, as the identifier assigned by the\u001b[39;00m\n\u001b[1;32m    303\u001b[0m     \u001b[38;5;66;03m# interface should stay consistent. An identifier with a\u001b[39;00m\n\u001b[1;32m    304\u001b[0m     \u001b[38;5;66;03m# user-assigned name might change its value, so we return a\u001b[39;00m\n\u001b[1;32m    305\u001b[0m     \u001b[38;5;66;03m# new element.\u001b[39;00m\n\u001b[0;32m--> 306\u001b[0m     result \u001b[38;5;241m=\u001b[39m \u001b[38;5;28;43mself\u001b[39;49m\u001b[38;5;241;43m.\u001b[39;49m\u001b[43m_coerce_from_special_method\u001b[49m\u001b[43m(\u001b[49m\u001b[43mx\u001b[49m\u001b[43m)\u001b[49m\n\u001b[1;32m    307\u001b[0m     \u001b[38;5;28;01mreturn\u001b[39;00m result \u001b[38;5;28;01mif\u001b[39;00m name \u001b[38;5;129;01mis\u001b[39;00m \u001b[38;5;28;01mNone\u001b[39;00m \u001b[38;5;28;01melse\u001b[39;00m result\u001b[38;5;241m.\u001b[39mname(new_name\u001b[38;5;241m=\u001b[39mname)\n\u001b[1;32m    308\u001b[0m \u001b[38;5;28;01mexcept\u001b[39;00m \u001b[38;5;167;01mTypeError\u001b[39;00m:\n",
            "File \u001b[0;32m/private/var/tmp/sage-10.5-current/local/var/lib/sage/venv-python3.12.5/lib/python3.12/site-packages/sage/interfaces/interface.py:334\u001b[0m, in \u001b[0;36mInterface._coerce_from_special_method\u001b[0;34m(self, x)\u001b[0m\n\u001b[1;32m    332\u001b[0m     s \u001b[38;5;241m=\u001b[39m \u001b[38;5;124m'\u001b[39m\u001b[38;5;124m_gp_\u001b[39m\u001b[38;5;124m'\u001b[39m\n\u001b[1;32m    333\u001b[0m \u001b[38;5;28;01mtry\u001b[39;00m:\n\u001b[0;32m--> 334\u001b[0m     \u001b[38;5;28;01mreturn\u001b[39;00m \u001b[43m(\u001b[49m\u001b[43mx\u001b[49m\u001b[38;5;241;43m.\u001b[39;49m\u001b[38;5;21;43m__getattribute__\u001b[39;49m\u001b[43m(\u001b[49m\u001b[43ms\u001b[49m\u001b[43m)\u001b[49m\u001b[43m)\u001b[49m\u001b[43m(\u001b[49m\u001b[38;5;28;43mself\u001b[39;49m\u001b[43m)\u001b[49m\n\u001b[1;32m    335\u001b[0m \u001b[38;5;28;01mexcept\u001b[39;00m \u001b[38;5;167;01mAttributeError\u001b[39;00m:\n\u001b[1;32m    336\u001b[0m     \u001b[38;5;28;01mreturn\u001b[39;00m \u001b[38;5;28mself\u001b[39m(x\u001b[38;5;241m.\u001b[39m_interface_init_())\n",
            "File \u001b[0;32m/private/var/tmp/sage-10.5-current/local/var/lib/sage/venv-python3.12.5/lib/python3.12/site-packages/sage/structure/sage_object.pyx:793\u001b[0m, in \u001b[0;36msage.structure.sage_object.SageObject._fricas_ (build/cythonized/sage/structure/sage_object.c:10438)\u001b[0;34m()\u001b[0m\n\u001b[1;32m    791\u001b[0m         import sage.interfaces.fricas\n\u001b[1;32m    792\u001b[0m         G = sage.interfaces.fricas.fricas\n\u001b[0;32m--> 793\u001b[0m     return self._interface_(G)\n\u001b[1;32m    794\u001b[0m \n\u001b[1;32m    795\u001b[0m def _fricas_init_(self):\n",
            "File \u001b[0;32m/private/var/tmp/sage-10.5-current/local/var/lib/sage/venv-python3.12.5/lib/python3.12/site-packages/sage/symbolic/expression.pyx:1193\u001b[0m, in \u001b[0;36msage.symbolic.expression.Expression._interface_ (build/cythonized/sage/symbolic/expression.cpp:46837)\u001b[0;34m()\u001b[0m\n\u001b[1;32m   1191\u001b[0m     if is_a_constant(self._gobj):\n\u001b[1;32m   1192\u001b[0m         return self.pyobject()._interface_(I)\n\u001b[0;32m-> 1193\u001b[0m     return super()._interface_(I)\n\u001b[1;32m   1194\u001b[0m \n\u001b[1;32m   1195\u001b[0m def _maxima_(self, session=None):\n",
            "File \u001b[0;32m/private/var/tmp/sage-10.5-current/local/var/lib/sage/venv-python3.12.5/lib/python3.12/site-packages/sage/structure/sage_object.pyx:723\u001b[0m, in \u001b[0;36msage.structure.sage_object.SageObject._interface_ (build/cythonized/sage/structure/sage_object.c:8223)\u001b[0;34m()\u001b[0m\n\u001b[1;32m    721\u001b[0m     except Exception:\n\u001b[1;32m    722\u001b[0m         raise NotImplementedError(\"coercion of object %s to %s not implemented\" % (repr(self), I))\n\u001b[0;32m--> 723\u001b[0m X = I(s)\n\u001b[1;32m    724\u001b[0m if c:\n\u001b[1;32m    725\u001b[0m     try:\n",
            "File \u001b[0;32m/private/var/tmp/sage-10.5-current/local/var/lib/sage/venv-python3.12.5/lib/python3.12/site-packages/sage/interfaces/interface.py:299\u001b[0m, in \u001b[0;36mInterface.__call__\u001b[0;34m(self, x, name)\u001b[0m\n\u001b[1;32m    296\u001b[0m         \u001b[38;5;28;01mpass\u001b[39;00m\n\u001b[1;32m    298\u001b[0m \u001b[38;5;28;01mif\u001b[39;00m \u001b[38;5;28misinstance\u001b[39m(x, \u001b[38;5;28mstr\u001b[39m):\n\u001b[0;32m--> 299\u001b[0m     \u001b[38;5;28;01mreturn\u001b[39;00m \u001b[38;5;28;43mcls\u001b[39;49m\u001b[43m(\u001b[49m\u001b[38;5;28;43mself\u001b[39;49m\u001b[43m,\u001b[49m\u001b[43m \u001b[49m\u001b[43mx\u001b[49m\u001b[43m,\u001b[49m\u001b[43m \u001b[49m\u001b[43mname\u001b[49m\u001b[38;5;241;43m=\u001b[39;49m\u001b[43mname\u001b[49m\u001b[43m)\u001b[49m\n\u001b[1;32m    300\u001b[0m \u001b[38;5;28;01mtry\u001b[39;00m:\n\u001b[1;32m    301\u001b[0m     \u001b[38;5;66;03m# Special methods do not and should not have an option to\u001b[39;00m\n\u001b[1;32m    302\u001b[0m     \u001b[38;5;66;03m# set the name directly, as the identifier assigned by the\u001b[39;00m\n\u001b[1;32m    303\u001b[0m     \u001b[38;5;66;03m# interface should stay consistent. An identifier with a\u001b[39;00m\n\u001b[1;32m    304\u001b[0m     \u001b[38;5;66;03m# user-assigned name might change its value, so we return a\u001b[39;00m\n\u001b[1;32m    305\u001b[0m     \u001b[38;5;66;03m# new element.\u001b[39;00m\n\u001b[1;32m    306\u001b[0m     result \u001b[38;5;241m=\u001b[39m \u001b[38;5;28mself\u001b[39m\u001b[38;5;241m.\u001b[39m_coerce_from_special_method(x)\n",
            "File \u001b[0;32m/private/var/tmp/sage-10.5-current/local/var/lib/sage/venv-python3.12.5/lib/python3.12/site-packages/sage/interfaces/expect.py:1523\u001b[0m, in \u001b[0;36mExpectElement.__init__\u001b[0;34m(self, parent, value, is_name, name)\u001b[0m\n\u001b[1;32m   1521\u001b[0m \u001b[38;5;28;01mexcept\u001b[39;00m (\u001b[38;5;167;01mRuntimeError\u001b[39;00m, \u001b[38;5;167;01mValueError\u001b[39;00m) \u001b[38;5;28;01mas\u001b[39;00m x:\n\u001b[1;32m   1522\u001b[0m     \u001b[38;5;28mself\u001b[39m\u001b[38;5;241m.\u001b[39m_session_number \u001b[38;5;241m=\u001b[39m \u001b[38;5;241m-\u001b[39m\u001b[38;5;241m1\u001b[39m\n\u001b[0;32m-> 1523\u001b[0m     \u001b[38;5;28;01mraise\u001b[39;00m \u001b[38;5;167;01mTypeError\u001b[39;00m(\u001b[38;5;241m*\u001b[39mx\u001b[38;5;241m.\u001b[39margs)\n\u001b[1;32m   1524\u001b[0m \u001b[38;5;28;01mexcept\u001b[39;00m \u001b[38;5;167;01mBaseException\u001b[39;00m:\n\u001b[1;32m   1525\u001b[0m     \u001b[38;5;28mself\u001b[39m\u001b[38;5;241m.\u001b[39m_session_number \u001b[38;5;241m=\u001b[39m \u001b[38;5;241m-\u001b[39m\u001b[38;5;241m1\u001b[39m\n",
            "\u001b[0;31mTypeError\u001b[0m: Feature('fricas')"
          ]
        }
      ],
      "source": [
        "x = var('x')\n",
        "y=function('y')(x)\n",
        "de2 = diff(y,x,3)-2*diff(y,x,2)-3*diff(y,x)+3\n",
        "g = desolve(de2,y,algorithm=\"fricas\")\n",
        "latex(expand(g))"
      ]
    },
    {
      "cell_type": "code",
      "execution_count": null,
      "id": "3aff30c0",
      "metadata": {
        "vscode": {
          "languageId": "sage"
        }
      },
      "outputs": [],
      "source": []
    }
  ],
  "metadata": {
    "kernelspec": {
      "display_name": "SageMath 10.5",
      "language": "sage",
      "name": "SageMath-10.5"
    },
    "language_info": {
      "codemirror_mode": {
        "name": "ipython",
        "version": 3
      },
      "file_extension": ".py",
      "mimetype": "text/x-python",
      "name": "python",
      "nbconvert_exporter": "python",
      "pygments_lexer": "ipython3",
      "version": "3.12.5"
    }
  },
  "nbformat": 4,
  "nbformat_minor": 5
}
