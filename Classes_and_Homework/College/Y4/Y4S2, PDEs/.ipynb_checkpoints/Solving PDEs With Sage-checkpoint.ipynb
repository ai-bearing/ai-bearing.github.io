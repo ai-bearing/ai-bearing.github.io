{
 "cells": [
  {
   "cell_type": "code",
   "execution_count": 1,
   "id": "a4a5d1d2-8494-4daf-91a7-29293a87be9a",
   "metadata": {},
   "outputs": [
    {
     "data": {
      "text/plain": [
       "2"
      ]
     },
     "execution_count": 1,
     "metadata": {},
     "output_type": "execute_result"
    }
   ],
   "source": [
    "1+1"
   ]
  },
  {
   "cell_type": "code",
   "execution_count": 2,
   "id": "fa8f8f3d-6e39-4b80-a217-e477cc488648",
   "metadata": {},
   "outputs": [],
   "source": [
    "f(x) = x^3 + 1"
   ]
  },
  {
   "cell_type": "code",
   "execution_count": 3,
   "id": "ea1669c2-bca1-4af0-b89f-7d6dc6cd4b59",
   "metadata": {},
   "outputs": [
    {
     "data": {
      "text/plain": [
       "28"
      ]
     },
     "execution_count": 3,
     "metadata": {},
     "output_type": "execute_result"
    }
   ],
   "source": [
    "f(3)"
   ]
  },
  {
   "cell_type": "code",
   "execution_count": 4,
   "id": "aad31e87-f206-4565-aee2-eccbbda4ca93",
   "metadata": {},
   "outputs": [],
   "source": [
    "y = function('y')(x)\n",
    "de = diff(y,x) + y - 2\n",
    "h = desolve(de,y)"
   ]
  },
  {
   "cell_type": "code",
   "execution_count": 5,
   "id": "df5338e7-f099-42e9-83f4-43fd67a1b5ee",
   "metadata": {},
   "outputs": [
    {
     "data": {
      "text/html": [
       "<html>\\(\\displaystyle C e^{\\left(-x\\right)} + 2\\)</html>"
      ],
      "text/latex": [
       "$\\displaystyle C e^{\\left(-x\\right)} + 2$"
      ],
      "text/plain": [
       "_C*e^(-x) + 2"
      ]
     },
     "metadata": {},
     "output_type": "display_data"
    }
   ],
   "source": [
    "show(expand(h))"
   ]
  },
  {
   "cell_type": "code",
   "execution_count": 6,
   "id": "d48b7fc5-4a8f-40a2-af0e-41838fb3dcda",
   "metadata": {},
   "outputs": [
    {
     "data": {
      "text/plain": [
       "C e^{\\left(-x\\right)} + 2"
      ]
     },
     "execution_count": 6,
     "metadata": {},
     "output_type": "execute_result"
    }
   ],
   "source": [
    "latex(expand(h))"
   ]
  },
  {
   "cell_type": "code",
   "execution_count": 10,
   "id": "34978f59-a2ba-4c3d-aac5-0f676b525604",
   "metadata": {},
   "outputs": [
    {
     "data": {
      "text/html": [
       "<html>\\(\\displaystyle K_{2} x e^{x} + \\frac{1}{2} \\, x^{2} e^{x} + K_{1} e^{x}\\)</html>"
      ],
      "text/latex": [
       "$\\displaystyle K_{2} x e^{x} + \\frac{1}{2} \\, x^{2} e^{x} + K_{1} e^{x}$"
      ],
      "text/plain": [
       "_K2*x*e^x + 1/2*x^2*e^x + _K1*e^x"
      ]
     },
     "metadata": {},
     "output_type": "display_data"
    }
   ],
   "source": [
    "de = diff(y,x,2) - 2*diff(y,x) + y - e^(x)\n",
    "g = desolve(de,y)\n",
    "latex(expand(g))\n",
    "show(expand(g))"
   ]
  },
  {
   "cell_type": "code",
   "execution_count": 11,
   "id": "cd2df88a-e0fa-4410-b33a-5c0258eb735e",
   "metadata": {},
   "outputs": [
    {
     "data": {
      "text/plain": [
       "K_{2} x e^{x} + \\frac{1}{2} \\, x^{2} e^{x} + K_{1} e^{x}"
      ]
     },
     "execution_count": 11,
     "metadata": {},
     "output_type": "execute_result"
    }
   ],
   "source": [
    "latex(expand(g))"
   ]
  }
 ],
 "metadata": {
  "kernelspec": {
   "display_name": "SageMath 10.5",
   "language": "sage",
   "name": "sagemath-10.5"
  },
  "language_info": {
   "codemirror_mode": {
    "name": "ipython",
    "version": 3
   },
   "file_extension": ".py",
   "mimetype": "text/x-python",
   "name": "python",
   "nbconvert_exporter": "python",
   "pygments_lexer": "ipython3",
   "version": "3.12.5"
  }
 },
 "nbformat": 4,
 "nbformat_minor": 5
}
