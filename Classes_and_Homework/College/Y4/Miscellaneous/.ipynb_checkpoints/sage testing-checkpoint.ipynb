{
 "cells": [
  {
   "cell_type": "code",
   "execution_count": 1,
   "id": "f5247fba-156f-4092-bff0-0f8493f8c04c",
   "metadata": {},
   "outputs": [
    {
     "data": {
      "text/plain": [
       "4"
      ]
     },
     "execution_count": 1,
     "metadata": {},
     "output_type": "execute_result"
    }
   ],
   "source": [
    "2+2"
   ]
  },
  {
   "cell_type": "code",
   "execution_count": 2,
   "id": "2a18fad8-bf47-4772-a97e-b0017600ca31",
   "metadata": {},
   "outputs": [
    {
     "ename": "SyntaxError",
     "evalue": "invalid syntax (684449501.py, line 1)",
     "output_type": "error",
     "traceback": [
      "\u001b[0;36m  Cell \u001b[0;32mIn[2], line 1\u001b[0;36m\u001b[0m\n\u001b[0;31m    display latex\u001b[0m\n\u001b[0m            ^\u001b[0m\n\u001b[0;31mSyntaxError\u001b[0m\u001b[0;31m:\u001b[0m invalid syntax\n"
     ]
    }
   ],
   "source": [
    "display latex\n",
    "var('z')\n",
    "sqrt(z^12 + 12)"
   ]
  },
  {
   "cell_type": "code",
   "execution_count": 3,
   "id": "de8110eb-13c4-4e9d-b312-8371a161e132",
   "metadata": {},
   "outputs": [
    {
     "ename": "NameError",
     "evalue": "name 'z' is not defined",
     "output_type": "error",
     "traceback": [
      "\u001b[0;31m---------------------------------------------------------------------------\u001b[0m",
      "\u001b[0;31mNameError\u001b[0m                                 Traceback (most recent call last)",
      "Cell \u001b[0;32mIn[3], line 1\u001b[0m\n\u001b[0;32m----> 1\u001b[0m latex(\u001b[43mz\u001b[49m\u001b[38;5;241m*\u001b[39m\u001b[38;5;241m*\u001b[39mInteger(\u001b[38;5;241m12\u001b[39m))\n",
      "\u001b[0;31mNameError\u001b[0m: name 'z' is not defined"
     ]
    }
   ],
   "source": [
    "latex(z^12)"
   ]
  },
  {
   "cell_type": "code",
   "execution_count": 4,
   "id": "acda4b5f-e7bd-4461-ab2d-9da32da8979c",
   "metadata": {},
   "outputs": [
    {
     "data": {
      "text/plain": [
       "z"
      ]
     },
     "execution_count": 4,
     "metadata": {},
     "output_type": "execute_result"
    }
   ],
   "source": [
    "var('z')"
   ]
  },
  {
   "cell_type": "code",
   "execution_count": 5,
   "id": "921ac59b-f11c-4f71-9b48-d60994aa9955",
   "metadata": {},
   "outputs": [
    {
     "data": {
      "text/plain": [
       "z^{12}"
      ]
     },
     "execution_count": 5,
     "metadata": {},
     "output_type": "execute_result"
    }
   ],
   "source": [
    "latex(z^12)"
   ]
  },
  {
   "cell_type": "code",
   "execution_count": 6,
   "id": "3cc671b9-3193-4a53-b000-d1a308869261",
   "metadata": {},
   "outputs": [
    {
     "ename": "SyntaxError",
     "evalue": "invalid syntax (831792279.py, line 1)",
     "output_type": "error",
     "traceback": [
      "\u001b[0;36m  Cell \u001b[0;32mIn[6], line 1\u001b[0;36m\u001b[0m\n\u001b[0;31m    display latex(z**Integer(12))\u001b[0m\n\u001b[0m            ^\u001b[0m\n\u001b[0;31mSyntaxError\u001b[0m\u001b[0;31m:\u001b[0m invalid syntax\n"
     ]
    }
   ],
   "source": [
    "display latex(z^12)"
   ]
  },
  {
   "cell_type": "code",
   "execution_count": null,
   "id": "799ec8e6-889b-49ff-b136-b5992f12f548",
   "metadata": {},
   "outputs": [],
   "source": []
  },
  {
   "cell_type": "code",
   "execution_count": 7,
   "id": "c556a2a6-a537-4ba9-97c3-d181753a886d",
   "metadata": {},
   "outputs": [
    {
     "ename": "SyntaxError",
     "evalue": "invalid syntax (450893809.py, line 1)",
     "output_type": "error",
     "traceback": [
      "\u001b[0;36m  Cell \u001b[0;32mIn[7], line 1\u001b[0;36m\u001b[0m\n\u001b[0;31m    display latex\u001b[0m\n\u001b[0m            ^\u001b[0m\n\u001b[0;31mSyntaxError\u001b[0m\u001b[0;31m:\u001b[0m invalid syntax\n"
     ]
    }
   ],
   "source": [
    "display latex"
   ]
  },
  {
   "cell_type": "code",
   "execution_count": null,
   "id": "afb8434e-3380-40ad-8318-e5658e7ba9ab",
   "metadata": {},
   "outputs": [],
   "source": [
    "%display latex\n",
    "var('z')\n",
    "z^12"
   ]
  },
  {
   "cell_type": "code",
   "execution_count": null,
   "id": "83d3e241-ff1c-4fb2-b428-d1ee73505560",
   "metadata": {},
   "outputs": [],
   "source": [
    "view(12)"
   ]
  },
  {
   "cell_type": "code",
   "execution_count": null,
   "id": "c25029cc-ada9-4035-a15a-c99f1dcb08e9",
   "metadata": {},
   "outputs": [],
   "source": []
  }
 ],
 "metadata": {
  "kernelspec": {
   "display_name": "SageMath 10.5",
   "language": "sage",
   "name": "sagemath-10.5"
  },
  "language_info": {
   "codemirror_mode": {
    "name": "ipython",
    "version": 3
   },
   "file_extension": ".py",
   "mimetype": "text/x-python",
   "name": "python",
   "nbconvert_exporter": "python",
   "pygments_lexer": "ipython3",
   "version": "3.12.5"
  }
 },
 "nbformat": 4,
 "nbformat_minor": 5
}
